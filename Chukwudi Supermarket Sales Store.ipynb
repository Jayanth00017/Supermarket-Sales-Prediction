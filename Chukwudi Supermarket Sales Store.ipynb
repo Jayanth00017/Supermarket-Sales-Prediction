{
 "cells": [
  {
   "cell_type": "markdown",
   "metadata": {},
   "source": [
    "# Chukwudi Supermarket Sales Predition"
   ]
  },
  {
   "cell_type": "markdown",
   "metadata": {},
   "source": [
    "### 1. Importing the libraries"
   ]
  },
  {
   "cell_type": "code",
   "execution_count": 1,
   "metadata": {},
   "outputs": [
    {
     "name": "stderr",
     "output_type": "stream",
     "text": [
      "/home/clone/anaconda3/lib/python3.6/site-packages/sklearn/ensemble/weight_boosting.py:29: DeprecationWarning: numpy.core.umath_tests is an internal NumPy module and should not be imported. It will be removed in a future NumPy release.\n",
      "  from numpy.core.umath_tests import inner1d\n",
      "/home/clone/anaconda3/lib/python3.6/site-packages/sklearn/cross_validation.py:41: DeprecationWarning: This module was deprecated in version 0.18 in favor of the model_selection module into which all the refactored classes and functions are moved. Also note that the interface of the new CV iterators are different from that of this module. This module will be removed in 0.20.\n",
      "  \"This module will be removed in 0.20.\", DeprecationWarning)\n"
     ]
    }
   ],
   "source": [
    "import os, math\n",
    "import numpy as np\n",
    "import pandas as pd\n",
    "import seaborn as sns\n",
    "import xgboost as xgb\n",
    "from matplotlib import pyplot as plt\n",
    "from sklearn.preprocessing import Imputer\n",
    "from sklearn.metrics import mean_squared_error\n",
    "from sklearn.linear_model import LinearRegression\n",
    "from sklearn.tree import DecisionTreeClassifier, DecisionTreeRegressor\n",
    "from sklearn.metrics import accuracy_score, r2_score, mean_squared_error\n",
    "from sklearn.model_selection import cross_val_score\n",
    "from sklearn.model_selection import train_test_split\n",
    "from sklearn.metrics import explained_variance_score\n",
    "from sklearn.ensemble import RandomForestClassifier\n",
    "from sklearn import cross_validation, tree, linear_model\n",
    "from sklearn.model_selection import train_test_split\n",
    "%matplotlib inline"
   ]
  },
  {
   "cell_type": "markdown",
   "metadata": {},
   "source": [
    "### 2. Importing the dataset(train and test file ) using pandas library"
   ]
  },
  {
   "cell_type": "code",
   "execution_count": 2,
   "metadata": {},
   "outputs": [
    {
     "data": {
      "text/plain": [
       "((4990, 13), (3532, 12))"
      ]
     },
     "execution_count": 2,
     "metadata": {},
     "output_type": "execute_result"
    }
   ],
   "source": [
    "df = pd.read_csv('dataset/train.csv')\n",
    "test = pd.read_csv('dataset/test.csv')\n",
    "ID = test['Product_Supermarket_Identifier']\n",
    "df.shape, test.shape"
   ]
  },
  {
   "cell_type": "markdown",
   "metadata": {},
   "source": [
    "####   The train file has the total of 4990 rows and 13 columns\n",
    "####   The test file has the total of 3532 rows and 12 columns"
   ]
  },
  {
   "cell_type": "code",
   "execution_count": 3,
   "metadata": {},
   "outputs": [
    {
     "data": {
      "text/html": [
       "<div>\n",
       "<style scoped>\n",
       "    .dataframe tbody tr th:only-of-type {\n",
       "        vertical-align: middle;\n",
       "    }\n",
       "\n",
       "    .dataframe tbody tr th {\n",
       "        vertical-align: top;\n",
       "    }\n",
       "\n",
       "    .dataframe thead th {\n",
       "        text-align: right;\n",
       "    }\n",
       "</style>\n",
       "<table border=\"1\" class=\"dataframe\">\n",
       "  <thead>\n",
       "    <tr style=\"text-align: right;\">\n",
       "      <th></th>\n",
       "      <th>Product_Identifier</th>\n",
       "      <th>Supermarket_Identifier</th>\n",
       "      <th>Product_Supermarket_Identifier</th>\n",
       "      <th>Product_Weight</th>\n",
       "      <th>Product_Fat_Content</th>\n",
       "      <th>Product_Shelf_Visibility</th>\n",
       "      <th>Product_Type</th>\n",
       "      <th>Product_Price</th>\n",
       "      <th>Supermarket_Opening_Year</th>\n",
       "      <th>Supermarket _Size</th>\n",
       "      <th>Supermarket_Location_Type</th>\n",
       "      <th>Supermarket_Type</th>\n",
       "      <th>Product_Supermarket_Sales</th>\n",
       "    </tr>\n",
       "  </thead>\n",
       "  <tbody>\n",
       "    <tr>\n",
       "      <th>0</th>\n",
       "      <td>DRA12</td>\n",
       "      <td>CHUKWUDI010</td>\n",
       "      <td>DRA12_CHUKWUDI010</td>\n",
       "      <td>11.6</td>\n",
       "      <td>Low Fat</td>\n",
       "      <td>0.068535</td>\n",
       "      <td>Soft Drinks</td>\n",
       "      <td>357.54</td>\n",
       "      <td>2005</td>\n",
       "      <td>NaN</td>\n",
       "      <td>Cluster 3</td>\n",
       "      <td>Grocery Store</td>\n",
       "      <td>709.08</td>\n",
       "    </tr>\n",
       "    <tr>\n",
       "      <th>1</th>\n",
       "      <td>DRA12</td>\n",
       "      <td>CHUKWUDI013</td>\n",
       "      <td>DRA12_CHUKWUDI013</td>\n",
       "      <td>11.6</td>\n",
       "      <td>Low Fat</td>\n",
       "      <td>0.040912</td>\n",
       "      <td>Soft Drinks</td>\n",
       "      <td>355.79</td>\n",
       "      <td>1994</td>\n",
       "      <td>High</td>\n",
       "      <td>Cluster 3</td>\n",
       "      <td>Supermarket Type1</td>\n",
       "      <td>6381.69</td>\n",
       "    </tr>\n",
       "    <tr>\n",
       "      <th>2</th>\n",
       "      <td>DRA12</td>\n",
       "      <td>CHUKWUDI017</td>\n",
       "      <td>DRA12_CHUKWUDI017</td>\n",
       "      <td>11.6</td>\n",
       "      <td>Low Fat</td>\n",
       "      <td>0.041178</td>\n",
       "      <td>Soft Drinks</td>\n",
       "      <td>350.79</td>\n",
       "      <td>2014</td>\n",
       "      <td>NaN</td>\n",
       "      <td>Cluster 2</td>\n",
       "      <td>Supermarket Type1</td>\n",
       "      <td>6381.69</td>\n",
       "    </tr>\n",
       "    <tr>\n",
       "      <th>3</th>\n",
       "      <td>DRA12</td>\n",
       "      <td>CHUKWUDI018</td>\n",
       "      <td>DRA12_CHUKWUDI018</td>\n",
       "      <td>11.6</td>\n",
       "      <td>Low Fat</td>\n",
       "      <td>0.041113</td>\n",
       "      <td>Soft Drinks</td>\n",
       "      <td>355.04</td>\n",
       "      <td>2016</td>\n",
       "      <td>Medium</td>\n",
       "      <td>Cluster 3</td>\n",
       "      <td>Supermarket Type2</td>\n",
       "      <td>2127.23</td>\n",
       "    </tr>\n",
       "    <tr>\n",
       "      <th>4</th>\n",
       "      <td>DRA12</td>\n",
       "      <td>CHUKWUDI035</td>\n",
       "      <td>DRA12_CHUKWUDI035</td>\n",
       "      <td>11.6</td>\n",
       "      <td>Ultra Low fat</td>\n",
       "      <td>0.000000</td>\n",
       "      <td>Soft Drinks</td>\n",
       "      <td>354.79</td>\n",
       "      <td>2011</td>\n",
       "      <td>Small</td>\n",
       "      <td>Cluster 2</td>\n",
       "      <td>Supermarket Type1</td>\n",
       "      <td>2481.77</td>\n",
       "    </tr>\n",
       "  </tbody>\n",
       "</table>\n",
       "</div>"
      ],
      "text/plain": [
       "  Product_Identifier Supermarket_Identifier Product_Supermarket_Identifier  \\\n",
       "0              DRA12            CHUKWUDI010              DRA12_CHUKWUDI010   \n",
       "1              DRA12            CHUKWUDI013              DRA12_CHUKWUDI013   \n",
       "2              DRA12            CHUKWUDI017              DRA12_CHUKWUDI017   \n",
       "3              DRA12            CHUKWUDI018              DRA12_CHUKWUDI018   \n",
       "4              DRA12            CHUKWUDI035              DRA12_CHUKWUDI035   \n",
       "\n",
       "   Product_Weight Product_Fat_Content  Product_Shelf_Visibility Product_Type  \\\n",
       "0            11.6             Low Fat                  0.068535  Soft Drinks   \n",
       "1            11.6             Low Fat                  0.040912  Soft Drinks   \n",
       "2            11.6             Low Fat                  0.041178  Soft Drinks   \n",
       "3            11.6             Low Fat                  0.041113  Soft Drinks   \n",
       "4            11.6       Ultra Low fat                  0.000000  Soft Drinks   \n",
       "\n",
       "   Product_Price  Supermarket_Opening_Year Supermarket _Size  \\\n",
       "0         357.54                      2005               NaN   \n",
       "1         355.79                      1994              High   \n",
       "2         350.79                      2014               NaN   \n",
       "3         355.04                      2016            Medium   \n",
       "4         354.79                      2011             Small   \n",
       "\n",
       "  Supermarket_Location_Type   Supermarket_Type  Product_Supermarket_Sales  \n",
       "0                 Cluster 3      Grocery Store                     709.08  \n",
       "1                 Cluster 3  Supermarket Type1                    6381.69  \n",
       "2                 Cluster 2  Supermarket Type1                    6381.69  \n",
       "3                 Cluster 3  Supermarket Type2                    2127.23  \n",
       "4                 Cluster 2  Supermarket Type1                    2481.77  "
      ]
     },
     "execution_count": 3,
     "metadata": {},
     "output_type": "execute_result"
    }
   ],
   "source": [
    "df.head()"
   ]
  },
  {
   "cell_type": "code",
   "execution_count": 4,
   "metadata": {},
   "outputs": [
    {
     "data": {
      "text/html": [
       "<div>\n",
       "<style scoped>\n",
       "    .dataframe tbody tr th:only-of-type {\n",
       "        vertical-align: middle;\n",
       "    }\n",
       "\n",
       "    .dataframe tbody tr th {\n",
       "        vertical-align: top;\n",
       "    }\n",
       "\n",
       "    .dataframe thead th {\n",
       "        text-align: right;\n",
       "    }\n",
       "</style>\n",
       "<table border=\"1\" class=\"dataframe\">\n",
       "  <thead>\n",
       "    <tr style=\"text-align: right;\">\n",
       "      <th></th>\n",
       "      <th>Product_Identifier</th>\n",
       "      <th>Supermarket_Identifier</th>\n",
       "      <th>Product_Supermarket_Identifier</th>\n",
       "      <th>Product_Weight</th>\n",
       "      <th>Product_Fat_Content</th>\n",
       "      <th>Product_Shelf_Visibility</th>\n",
       "      <th>Product_Type</th>\n",
       "      <th>Product_Price</th>\n",
       "      <th>Supermarket_Opening_Year</th>\n",
       "      <th>Supermarket _Size</th>\n",
       "      <th>Supermarket_Location_Type</th>\n",
       "      <th>Supermarket_Type</th>\n",
       "    </tr>\n",
       "  </thead>\n",
       "  <tbody>\n",
       "    <tr>\n",
       "      <th>0</th>\n",
       "      <td>DRA59</td>\n",
       "      <td>CHUKWUDI010</td>\n",
       "      <td>DRA59_CHUKWUDI010</td>\n",
       "      <td>8.270</td>\n",
       "      <td>Normal Fat</td>\n",
       "      <td>0.214125</td>\n",
       "      <td>Soft Drinks</td>\n",
       "      <td>459.98</td>\n",
       "      <td>2005</td>\n",
       "      <td>NaN</td>\n",
       "      <td>Cluster 3</td>\n",
       "      <td>Grocery Store</td>\n",
       "    </tr>\n",
       "    <tr>\n",
       "      <th>1</th>\n",
       "      <td>DRA59</td>\n",
       "      <td>CHUKWUDI013</td>\n",
       "      <td>DRA59_CHUKWUDI013</td>\n",
       "      <td>8.270</td>\n",
       "      <td>Normal Fat</td>\n",
       "      <td>0.127821</td>\n",
       "      <td>Soft Drinks</td>\n",
       "      <td>464.98</td>\n",
       "      <td>1994</td>\n",
       "      <td>High</td>\n",
       "      <td>Cluster 3</td>\n",
       "      <td>Supermarket Type1</td>\n",
       "    </tr>\n",
       "    <tr>\n",
       "      <th>2</th>\n",
       "      <td>DRB01</td>\n",
       "      <td>CHUKWUDI013</td>\n",
       "      <td>DRB01_CHUKWUDI013</td>\n",
       "      <td>7.390</td>\n",
       "      <td>Low Fat</td>\n",
       "      <td>0.082171</td>\n",
       "      <td>Soft Drinks</td>\n",
       "      <td>477.38</td>\n",
       "      <td>1994</td>\n",
       "      <td>High</td>\n",
       "      <td>Cluster 3</td>\n",
       "      <td>Supermarket Type1</td>\n",
       "    </tr>\n",
       "    <tr>\n",
       "      <th>3</th>\n",
       "      <td>DRB13</td>\n",
       "      <td>CHUKWUDI010</td>\n",
       "      <td>DRB13_CHUKWUDI010</td>\n",
       "      <td>6.115</td>\n",
       "      <td>Normal Fat</td>\n",
       "      <td>0.011791</td>\n",
       "      <td>Soft Drinks</td>\n",
       "      <td>472.63</td>\n",
       "      <td>2005</td>\n",
       "      <td>NaN</td>\n",
       "      <td>Cluster 3</td>\n",
       "      <td>Grocery Store</td>\n",
       "    </tr>\n",
       "    <tr>\n",
       "      <th>4</th>\n",
       "      <td>DRB13</td>\n",
       "      <td>CHUKWUDI013</td>\n",
       "      <td>DRB13_CHUKWUDI013</td>\n",
       "      <td>6.115</td>\n",
       "      <td>Normal Fat</td>\n",
       "      <td>0.007038</td>\n",
       "      <td>Soft Drinks</td>\n",
       "      <td>473.13</td>\n",
       "      <td>1994</td>\n",
       "      <td>High</td>\n",
       "      <td>Cluster 3</td>\n",
       "      <td>Supermarket Type1</td>\n",
       "    </tr>\n",
       "  </tbody>\n",
       "</table>\n",
       "</div>"
      ],
      "text/plain": [
       "  Product_Identifier Supermarket_Identifier Product_Supermarket_Identifier  \\\n",
       "0              DRA59            CHUKWUDI010              DRA59_CHUKWUDI010   \n",
       "1              DRA59            CHUKWUDI013              DRA59_CHUKWUDI013   \n",
       "2              DRB01            CHUKWUDI013              DRB01_CHUKWUDI013   \n",
       "3              DRB13            CHUKWUDI010              DRB13_CHUKWUDI010   \n",
       "4              DRB13            CHUKWUDI013              DRB13_CHUKWUDI013   \n",
       "\n",
       "   Product_Weight Product_Fat_Content  Product_Shelf_Visibility Product_Type  \\\n",
       "0           8.270          Normal Fat                  0.214125  Soft Drinks   \n",
       "1           8.270          Normal Fat                  0.127821  Soft Drinks   \n",
       "2           7.390             Low Fat                  0.082171  Soft Drinks   \n",
       "3           6.115          Normal Fat                  0.011791  Soft Drinks   \n",
       "4           6.115          Normal Fat                  0.007038  Soft Drinks   \n",
       "\n",
       "   Product_Price  Supermarket_Opening_Year Supermarket _Size  \\\n",
       "0         459.98                      2005               NaN   \n",
       "1         464.98                      1994              High   \n",
       "2         477.38                      1994              High   \n",
       "3         472.63                      2005               NaN   \n",
       "4         473.13                      1994              High   \n",
       "\n",
       "  Supermarket_Location_Type   Supermarket_Type  \n",
       "0                 Cluster 3      Grocery Store  \n",
       "1                 Cluster 3  Supermarket Type1  \n",
       "2                 Cluster 3  Supermarket Type1  \n",
       "3                 Cluster 3      Grocery Store  \n",
       "4                 Cluster 3  Supermarket Type1  "
      ]
     },
     "execution_count": 4,
     "metadata": {},
     "output_type": "execute_result"
    }
   ],
   "source": [
    "test.head()"
   ]
  },
  {
   "cell_type": "code",
   "execution_count": 5,
   "metadata": {},
   "outputs": [
    {
     "name": "stdout",
     "output_type": "stream",
     "text": [
      "<class 'pandas.core.frame.DataFrame'>\n",
      "RangeIndex: 4990 entries, 0 to 4989\n",
      "Data columns (total 13 columns):\n",
      "Product_Identifier                4990 non-null object\n",
      "Supermarket_Identifier            4990 non-null object\n",
      "Product_Supermarket_Identifier    4990 non-null object\n",
      "Product_Weight                    4188 non-null float64\n",
      "Product_Fat_Content               4990 non-null object\n",
      "Product_Shelf_Visibility          4990 non-null float64\n",
      "Product_Type                      4990 non-null object\n",
      "Product_Price                     4990 non-null float64\n",
      "Supermarket_Opening_Year          4990 non-null int64\n",
      "Supermarket _Size                 3540 non-null object\n",
      "Supermarket_Location_Type         4990 non-null object\n",
      "Supermarket_Type                  4990 non-null object\n",
      "Product_Supermarket_Sales         4990 non-null float64\n",
      "dtypes: float64(4), int64(1), object(8)\n",
      "memory usage: 506.9+ KB\n"
     ]
    }
   ],
   "source": [
    "df.info()"
   ]
  },
  {
   "cell_type": "markdown",
   "metadata": {},
   "source": [
    "#### the train file file has columns with 4 float64, 1 int64 and 8 object datatypes."
   ]
  },
  {
   "cell_type": "code",
   "execution_count": 6,
   "metadata": {},
   "outputs": [
    {
     "name": "stdout",
     "output_type": "stream",
     "text": [
      "<class 'pandas.core.frame.DataFrame'>\n",
      "RangeIndex: 3532 entries, 0 to 3531\n",
      "Data columns (total 12 columns):\n",
      "Product_Identifier                3532 non-null object\n",
      "Supermarket_Identifier            3532 non-null object\n",
      "Product_Supermarket_Identifier    3532 non-null object\n",
      "Product_Weight                    2871 non-null float64\n",
      "Product_Fat_Content               3532 non-null object\n",
      "Product_Shelf_Visibility          3532 non-null float64\n",
      "Product_Type                      3532 non-null object\n",
      "Product_Price                     3532 non-null float64\n",
      "Supermarket_Opening_Year          3532 non-null int64\n",
      "Supermarket _Size                 2573 non-null object\n",
      "Supermarket_Location_Type         3532 non-null object\n",
      "Supermarket_Type                  3532 non-null object\n",
      "dtypes: float64(3), int64(1), object(8)\n",
      "memory usage: 331.2+ KB\n"
     ]
    }
   ],
   "source": [
    "test.info()"
   ]
  },
  {
   "cell_type": "markdown",
   "metadata": {},
   "source": [
    "#### the test file file has columns with 3 float64, 1 int64 and 8 object datatypes."
   ]
  },
  {
   "cell_type": "code",
   "execution_count": 7,
   "metadata": {},
   "outputs": [
    {
     "data": {
      "text/html": [
       "<div>\n",
       "<style scoped>\n",
       "    .dataframe tbody tr th:only-of-type {\n",
       "        vertical-align: middle;\n",
       "    }\n",
       "\n",
       "    .dataframe tbody tr th {\n",
       "        vertical-align: top;\n",
       "    }\n",
       "\n",
       "    .dataframe thead th {\n",
       "        text-align: right;\n",
       "    }\n",
       "</style>\n",
       "<table border=\"1\" class=\"dataframe\">\n",
       "  <thead>\n",
       "    <tr style=\"text-align: right;\">\n",
       "      <th></th>\n",
       "      <th>Product_Weight</th>\n",
       "      <th>Product_Shelf_Visibility</th>\n",
       "      <th>Product_Price</th>\n",
       "      <th>Supermarket_Opening_Year</th>\n",
       "      <th>Product_Supermarket_Sales</th>\n",
       "    </tr>\n",
       "  </thead>\n",
       "  <tbody>\n",
       "    <tr>\n",
       "      <th>count</th>\n",
       "      <td>4188.000000</td>\n",
       "      <td>4990.000000</td>\n",
       "      <td>4990.000000</td>\n",
       "      <td>4990.000000</td>\n",
       "      <td>4990.000000</td>\n",
       "    </tr>\n",
       "    <tr>\n",
       "      <th>mean</th>\n",
       "      <td>12.908838</td>\n",
       "      <td>0.066916</td>\n",
       "      <td>391.803796</td>\n",
       "      <td>2004.783567</td>\n",
       "      <td>6103.520164</td>\n",
       "    </tr>\n",
       "    <tr>\n",
       "      <th>std</th>\n",
       "      <td>4.703256</td>\n",
       "      <td>0.053058</td>\n",
       "      <td>119.378259</td>\n",
       "      <td>8.283151</td>\n",
       "      <td>4447.333835</td>\n",
       "    </tr>\n",
       "    <tr>\n",
       "      <th>min</th>\n",
       "      <td>4.555000</td>\n",
       "      <td>0.000000</td>\n",
       "      <td>78.730000</td>\n",
       "      <td>1992.000000</td>\n",
       "      <td>83.230000</td>\n",
       "    </tr>\n",
       "    <tr>\n",
       "      <th>25%</th>\n",
       "      <td>8.767500</td>\n",
       "      <td>0.027273</td>\n",
       "      <td>307.890000</td>\n",
       "      <td>1994.000000</td>\n",
       "      <td>2757.660000</td>\n",
       "    </tr>\n",
       "    <tr>\n",
       "      <th>50%</th>\n",
       "      <td>12.600000</td>\n",
       "      <td>0.053564</td>\n",
       "      <td>393.860000</td>\n",
       "      <td>2006.000000</td>\n",
       "      <td>5374.675000</td>\n",
       "    </tr>\n",
       "    <tr>\n",
       "      <th>75%</th>\n",
       "      <td>17.100000</td>\n",
       "      <td>0.095358</td>\n",
       "      <td>465.067500</td>\n",
       "      <td>2011.000000</td>\n",
       "      <td>8522.240000</td>\n",
       "    </tr>\n",
       "    <tr>\n",
       "      <th>max</th>\n",
       "      <td>21.350000</td>\n",
       "      <td>0.328391</td>\n",
       "      <td>667.220000</td>\n",
       "      <td>2016.000000</td>\n",
       "      <td>32717.410000</td>\n",
       "    </tr>\n",
       "  </tbody>\n",
       "</table>\n",
       "</div>"
      ],
      "text/plain": [
       "       Product_Weight  Product_Shelf_Visibility  Product_Price  \\\n",
       "count     4188.000000               4990.000000    4990.000000   \n",
       "mean        12.908838                  0.066916     391.803796   \n",
       "std          4.703256                  0.053058     119.378259   \n",
       "min          4.555000                  0.000000      78.730000   \n",
       "25%          8.767500                  0.027273     307.890000   \n",
       "50%         12.600000                  0.053564     393.860000   \n",
       "75%         17.100000                  0.095358     465.067500   \n",
       "max         21.350000                  0.328391     667.220000   \n",
       "\n",
       "       Supermarket_Opening_Year  Product_Supermarket_Sales  \n",
       "count               4990.000000                4990.000000  \n",
       "mean                2004.783567                6103.520164  \n",
       "std                    8.283151                4447.333835  \n",
       "min                 1992.000000                  83.230000  \n",
       "25%                 1994.000000                2757.660000  \n",
       "50%                 2006.000000                5374.675000  \n",
       "75%                 2011.000000                8522.240000  \n",
       "max                 2016.000000               32717.410000  "
      ]
     },
     "execution_count": 7,
     "metadata": {},
     "output_type": "execute_result"
    }
   ],
   "source": [
    "df.describe()"
   ]
  },
  {
   "cell_type": "code",
   "execution_count": 8,
   "metadata": {},
   "outputs": [
    {
     "data": {
      "text/html": [
       "<div>\n",
       "<style scoped>\n",
       "    .dataframe tbody tr th:only-of-type {\n",
       "        vertical-align: middle;\n",
       "    }\n",
       "\n",
       "    .dataframe tbody tr th {\n",
       "        vertical-align: top;\n",
       "    }\n",
       "\n",
       "    .dataframe thead th {\n",
       "        text-align: right;\n",
       "    }\n",
       "</style>\n",
       "<table border=\"1\" class=\"dataframe\">\n",
       "  <thead>\n",
       "    <tr style=\"text-align: right;\">\n",
       "      <th></th>\n",
       "      <th>Product_Weight</th>\n",
       "      <th>Product_Shelf_Visibility</th>\n",
       "      <th>Product_Price</th>\n",
       "      <th>Supermarket_Opening_Year</th>\n",
       "    </tr>\n",
       "  </thead>\n",
       "  <tbody>\n",
       "    <tr>\n",
       "      <th>count</th>\n",
       "      <td>2871.000000</td>\n",
       "      <td>3532.000000</td>\n",
       "      <td>3532.000000</td>\n",
       "      <td>3532.000000</td>\n",
       "    </tr>\n",
       "    <tr>\n",
       "      <th>mean</th>\n",
       "      <td>12.781665</td>\n",
       "      <td>0.065030</td>\n",
       "      <td>296.903392</td>\n",
       "      <td>2004.900057</td>\n",
       "    </tr>\n",
       "    <tr>\n",
       "      <th>std</th>\n",
       "      <td>4.554868</td>\n",
       "      <td>0.049454</td>\n",
       "      <td>181.897221</td>\n",
       "      <td>8.497250</td>\n",
       "    </tr>\n",
       "    <tr>\n",
       "      <th>min</th>\n",
       "      <td>4.555000</td>\n",
       "      <td>0.000000</td>\n",
       "      <td>78.230000</td>\n",
       "      <td>1992.000000</td>\n",
       "    </tr>\n",
       "    <tr>\n",
       "      <th>25%</th>\n",
       "      <td>8.840000</td>\n",
       "      <td>0.026811</td>\n",
       "      <td>145.307500</td>\n",
       "      <td>1994.000000</td>\n",
       "    </tr>\n",
       "    <tr>\n",
       "      <th>50%</th>\n",
       "      <td>12.600000</td>\n",
       "      <td>0.054444</td>\n",
       "      <td>237.770000</td>\n",
       "      <td>2006.000000</td>\n",
       "    </tr>\n",
       "    <tr>\n",
       "      <th>75%</th>\n",
       "      <td>16.600000</td>\n",
       "      <td>0.094049</td>\n",
       "      <td>461.002500</td>\n",
       "      <td>2011.000000</td>\n",
       "    </tr>\n",
       "    <tr>\n",
       "      <th>max</th>\n",
       "      <td>21.350000</td>\n",
       "      <td>0.321115</td>\n",
       "      <td>667.220000</td>\n",
       "      <td>2016.000000</td>\n",
       "    </tr>\n",
       "  </tbody>\n",
       "</table>\n",
       "</div>"
      ],
      "text/plain": [
       "       Product_Weight  Product_Shelf_Visibility  Product_Price  \\\n",
       "count     2871.000000               3532.000000    3532.000000   \n",
       "mean        12.781665                  0.065030     296.903392   \n",
       "std          4.554868                  0.049454     181.897221   \n",
       "min          4.555000                  0.000000      78.230000   \n",
       "25%          8.840000                  0.026811     145.307500   \n",
       "50%         12.600000                  0.054444     237.770000   \n",
       "75%         16.600000                  0.094049     461.002500   \n",
       "max         21.350000                  0.321115     667.220000   \n",
       "\n",
       "       Supermarket_Opening_Year  \n",
       "count               3532.000000  \n",
       "mean                2004.900057  \n",
       "std                    8.497250  \n",
       "min                 1992.000000  \n",
       "25%                 1994.000000  \n",
       "50%                 2006.000000  \n",
       "75%                 2011.000000  \n",
       "max                 2016.000000  "
      ]
     },
     "execution_count": 8,
     "metadata": {},
     "output_type": "execute_result"
    }
   ],
   "source": [
    "test.describe()"
   ]
  },
  {
   "cell_type": "code",
   "execution_count": 9,
   "metadata": {
    "scrolled": true
   },
   "outputs": [
    {
     "data": {
      "text/plain": [
       "Product_Identifier                   0\n",
       "Supermarket_Identifier               0\n",
       "Product_Supermarket_Identifier       0\n",
       "Product_Weight                     802\n",
       "Product_Fat_Content                  0\n",
       "Product_Shelf_Visibility             0\n",
       "Product_Type                         0\n",
       "Product_Price                        0\n",
       "Supermarket_Opening_Year             0\n",
       "Supermarket _Size                 1450\n",
       "Supermarket_Location_Type            0\n",
       "Supermarket_Type                     0\n",
       "Product_Supermarket_Sales            0\n",
       "dtype: int64"
      ]
     },
     "execution_count": 9,
     "metadata": {},
     "output_type": "execute_result"
    }
   ],
   "source": [
    "df.isnull().sum()"
   ]
  },
  {
   "cell_type": "markdown",
   "metadata": {},
   "source": [
    "#### We have only null values in Product_Weight and Supermarket _Size columns"
   ]
  },
  {
   "cell_type": "code",
   "execution_count": 10,
   "metadata": {
    "scrolled": true
   },
   "outputs": [
    {
     "data": {
      "text/plain": [
       "Product_Identifier                  0\n",
       "Supermarket_Identifier              0\n",
       "Product_Supermarket_Identifier      0\n",
       "Product_Weight                    661\n",
       "Product_Fat_Content                 0\n",
       "Product_Shelf_Visibility            0\n",
       "Product_Type                        0\n",
       "Product_Price                       0\n",
       "Supermarket_Opening_Year            0\n",
       "Supermarket _Size                 959\n",
       "Supermarket_Location_Type           0\n",
       "Supermarket_Type                    0\n",
       "dtype: int64"
      ]
     },
     "execution_count": 10,
     "metadata": {},
     "output_type": "execute_result"
    }
   ],
   "source": [
    "test.isnull().sum()"
   ]
  },
  {
   "cell_type": "markdown",
   "metadata": {},
   "source": [
    "#### We have only null values in Product_Weight and Supermarket _Size columns"
   ]
  },
  {
   "cell_type": "markdown",
   "metadata": {},
   "source": [
    "### 3. Filling the missing data"
   ]
  },
  {
   "cell_type": "markdown",
   "metadata": {},
   "source": [
    "- So here we only going to fill the both Product_Weight and Supermarket _Size columns\n",
    "- So here, i filled the Product_weight(1) column with the mean because its as to do with numerical values\n",
    "- And the Supermarket _Size(2) with a string called 'low_viz' because of when you enter some supermarket there are some items you won't see until you adjust your height."
   ]
  },
  {
   "cell_type": "markdown",
   "metadata": {},
   "source": [
    "#####  1"
   ]
  },
  {
   "cell_type": "code",
   "execution_count": 11,
   "metadata": {},
   "outputs": [],
   "source": [
    "df['Product_Weight'] = df['Product_Weight'].fillna(df['Product_Weight'].mean())\n",
    "test['Product_Weight'] = test['Product_Weight'].fillna(test['Product_Weight'].mean())"
   ]
  },
  {
   "cell_type": "markdown",
   "metadata": {},
   "source": [
    "#####  2"
   ]
  },
  {
   "cell_type": "code",
   "execution_count": 12,
   "metadata": {
    "scrolled": true
   },
   "outputs": [
    {
     "data": {
      "text/plain": [
       "Medium    1582\n",
       "Small     1364\n",
       "High       594\n",
       "Name: Supermarket _Size, dtype: int64"
      ]
     },
     "execution_count": 12,
     "metadata": {},
     "output_type": "execute_result"
    }
   ],
   "source": [
    "df['Supermarket _Size'].value_counts()"
   ]
  },
  {
   "cell_type": "code",
   "execution_count": 13,
   "metadata": {
    "scrolled": true
   },
   "outputs": [
    {
     "data": {
      "text/plain": [
       "Medium    1211\n",
       "Small     1024\n",
       "High       338\n",
       "Name: Supermarket _Size, dtype: int64"
      ]
     },
     "execution_count": 13,
     "metadata": {},
     "output_type": "execute_result"
    }
   ],
   "source": [
    "test['Supermarket _Size'].value_counts()"
   ]
  },
  {
   "cell_type": "code",
   "execution_count": 14,
   "metadata": {},
   "outputs": [],
   "source": [
    "df['Supermarket _Size'] = df['Supermarket _Size'].fillna('low_viz')\n",
    "test['Supermarket _Size'] = test['Supermarket _Size'].fillna('low_viz')"
   ]
  },
  {
   "cell_type": "markdown",
   "metadata": {},
   "source": [
    "#### - Heres a validation that there are no more null values in our train and test file"
   ]
  },
  {
   "cell_type": "code",
   "execution_count": 15,
   "metadata": {},
   "outputs": [
    {
     "data": {
      "text/plain": [
       "Product_Identifier                0\n",
       "Supermarket_Identifier            0\n",
       "Product_Supermarket_Identifier    0\n",
       "Product_Weight                    0\n",
       "Product_Fat_Content               0\n",
       "Product_Shelf_Visibility          0\n",
       "Product_Type                      0\n",
       "Product_Price                     0\n",
       "Supermarket_Opening_Year          0\n",
       "Supermarket _Size                 0\n",
       "Supermarket_Location_Type         0\n",
       "Supermarket_Type                  0\n",
       "Product_Supermarket_Sales         0\n",
       "dtype: int64"
      ]
     },
     "execution_count": 15,
     "metadata": {},
     "output_type": "execute_result"
    }
   ],
   "source": [
    "df.isnull().sum()"
   ]
  },
  {
   "cell_type": "code",
   "execution_count": 16,
   "metadata": {},
   "outputs": [
    {
     "data": {
      "text/plain": [
       "Product_Identifier                0\n",
       "Supermarket_Identifier            0\n",
       "Product_Supermarket_Identifier    0\n",
       "Product_Weight                    0\n",
       "Product_Fat_Content               0\n",
       "Product_Shelf_Visibility          0\n",
       "Product_Type                      0\n",
       "Product_Price                     0\n",
       "Supermarket_Opening_Year          0\n",
       "Supermarket _Size                 0\n",
       "Supermarket_Location_Type         0\n",
       "Supermarket_Type                  0\n",
       "dtype: int64"
      ]
     },
     "execution_count": 16,
     "metadata": {},
     "output_type": "execute_result"
    }
   ],
   "source": [
    "test.isnull().sum()"
   ]
  },
  {
   "cell_type": "markdown",
   "metadata": {},
   "source": [
    "### 4. Categorical Variables"
   ]
  },
  {
   "cell_type": "markdown",
   "metadata": {},
   "source": [
    "- Why categorical variables ?\n",
    "\n",
    "- I having categorical variables will only make my model difficult to predict becuase to predict a model succesfully, all values must be numerical.\n",
    "- So here i will be using a Preprocessing library(LABEL ENCONDER) from sklearn to convert categorical variables to numerical values."
   ]
  },
  {
   "cell_type": "markdown",
   "metadata": {},
   "source": [
    "- Cols is a list of all the categorical columns"
   ]
  },
  {
   "cell_type": "code",
   "execution_count": 17,
   "metadata": {},
   "outputs": [
    {
     "name": "stdout",
     "output_type": "stream",
     "text": [
      " \n",
      "  Product_Fat_Content  \n",
      " \n",
      " Low Fat          3039\n",
      "Normal Fat       1773\n",
      "Ultra Low fat     178\n",
      "Name: Product_Fat_Content, dtype: int64\n",
      " \n",
      "  Product_Type  \n",
      " \n",
      " Snack Foods              758\n",
      "Fruits and Vegetables    747\n",
      "Household                567\n",
      "Frozen Foods             457\n",
      "Canned                   376\n",
      "Dairy                    350\n",
      "Baking Goods             344\n",
      "Health and Hygiene       307\n",
      "Meat                     264\n",
      "Soft Drinks              261\n",
      "Breads                   137\n",
      "Hard Drinks              134\n",
      "Others                   100\n",
      "Starchy Foods             81\n",
      "Breakfast                 66\n",
      "Seafood                   41\n",
      "Name: Product_Type, dtype: int64\n",
      " \n",
      "  Supermarket _Size  \n",
      " \n",
      " Medium     1582\n",
      "low_viz    1450\n",
      "Small      1364\n",
      "High        594\n",
      "Name: Supermarket _Size, dtype: int64\n",
      " \n",
      "  Supermarket_Location_Type  \n",
      " \n",
      " Cluster 3    1940\n",
      "Cluster 2    1581\n",
      "Cluster 1    1469\n",
      "Name: Supermarket_Location_Type, dtype: int64\n",
      " \n",
      "  Supermarket_Type  \n",
      " \n",
      " Supermarket Type1    3304\n",
      "Grocery Store         724\n",
      "Supermarket Type2     500\n",
      "Supermarket Type3     462\n",
      "Name: Supermarket_Type, dtype: int64\n"
     ]
    }
   ],
   "source": [
    "col = ['Product_Fat_Content', 'Product_Type', 'Supermarket _Size', 'Supermarket_Location_Type','Supermarket_Type']\n",
    "\n",
    "for i in col:\n",
    "    print(' \\n ' ,i,' \\n \\n',df[i].value_counts())"
   ]
  },
  {
   "cell_type": "code",
   "execution_count": 18,
   "metadata": {},
   "outputs": [
    {
     "name": "stdout",
     "output_type": "stream",
     "text": [
      " \n",
      "  Product_Fat_Content  \n",
      " \n",
      " Low Fat          2161\n",
      "Normal Fat       1233\n",
      "Ultra Low fat     138\n",
      "Name: Product_Fat_Content, dtype: int64\n",
      " \n",
      "  Product_Type  \n",
      " \n",
      " Fruits and Vegetables    485\n",
      "Snack Foods              442\n",
      "Frozen Foods             399\n",
      "Household                342\n",
      "Dairy                    332\n",
      "Baking Goods             304\n",
      "Canned                   273\n",
      "Health and Hygiene       213\n",
      "Soft Drinks              184\n",
      "Meat                     161\n",
      "Breads                   114\n",
      "Hard Drinks               80\n",
      "Others                    69\n",
      "Starchy Foods             67\n",
      "Breakfast                 44\n",
      "Seafood                   23\n",
      "Name: Product_Type, dtype: int64\n",
      " \n",
      "  Supermarket _Size  \n",
      " \n",
      " Medium     1211\n",
      "Small      1024\n",
      "low_viz     959\n",
      "High        338\n",
      "Name: Supermarket _Size, dtype: int64\n",
      " \n",
      "  Supermarket_Location_Type  \n",
      " \n",
      " Cluster 3    1409\n",
      "Cluster 2    1204\n",
      "Cluster 1     919\n",
      "Name: Supermarket_Location_Type, dtype: int64\n",
      " \n",
      "  Supermarket_Type  \n",
      " \n",
      " Supermarket Type1    2273\n",
      "Supermarket Type3     473\n",
      "Supermarket Type2     428\n",
      "Grocery Store         358\n",
      "Name: Supermarket_Type, dtype: int64\n"
     ]
    }
   ],
   "source": [
    "col = ['Product_Fat_Content', 'Product_Type', 'Supermarket _Size', 'Supermarket_Location_Type','Supermarket_Type']\n",
    "\n",
    "for i in col:\n",
    "    print(' \\n ' ,i,' \\n \\n',test[i].value_counts())"
   ]
  },
  {
   "cell_type": "code",
   "execution_count": 19,
   "metadata": {},
   "outputs": [],
   "source": [
    "from sklearn.preprocessing import LabelEncoder, OneHotEncoder\n",
    "en = LabelEncoder()"
   ]
  },
  {
   "cell_type": "markdown",
   "metadata": {},
   "source": [
    "- Cols is a list of all the categorical columns\n",
    "- And a code is written to loop through each columns to change each to numerical values"
   ]
  },
  {
   "cell_type": "code",
   "execution_count": 20,
   "metadata": {},
   "outputs": [
    {
     "name": "stdout",
     "output_type": "stream",
     "text": [
      "\n",
      " Product_Fat_Content \n",
      " 0    0\n",
      "1    0\n",
      "2    0\n",
      "3    0\n",
      "4    2\n",
      "Name: Product_Fat_Content, dtype: int64\n",
      "\n",
      " Product_Type \n",
      " 0    14\n",
      "1    14\n",
      "2    14\n",
      "3    14\n",
      "4    14\n",
      "Name: Product_Type, dtype: int64\n",
      "\n",
      " Supermarket _Size \n",
      " 0    3\n",
      "1    0\n",
      "2    3\n",
      "3    1\n",
      "4    2\n",
      "Name: Supermarket _Size, dtype: int64\n",
      "\n",
      " Supermarket_Location_Type \n",
      " 0    2\n",
      "1    2\n",
      "2    1\n",
      "3    2\n",
      "4    1\n",
      "Name: Supermarket_Location_Type, dtype: int64\n",
      "\n",
      " Supermarket_Type \n",
      " 0    0\n",
      "1    1\n",
      "2    1\n",
      "3    2\n",
      "4    1\n",
      "Name: Supermarket_Type, dtype: int64\n"
     ]
    }
   ],
   "source": [
    "col = ['Product_Fat_Content', 'Product_Type', 'Supermarket _Size', 'Supermarket_Location_Type','Supermarket_Type']\n",
    "\n",
    "for i in col:\n",
    "    df[i] = en.fit_transform(df[i])\n",
    "    print('\\n',i,'\\n',df[i].head())"
   ]
  },
  {
   "cell_type": "code",
   "execution_count": 21,
   "metadata": {},
   "outputs": [
    {
     "name": "stdout",
     "output_type": "stream",
     "text": [
      "\n",
      " Product_Fat_Content \n",
      " 0    1\n",
      "1    1\n",
      "2    0\n",
      "3    1\n",
      "4    1\n",
      "Name: Product_Fat_Content, dtype: int64\n",
      "\n",
      " Product_Type \n",
      " 0    14\n",
      "1    14\n",
      "2    14\n",
      "3    14\n",
      "4    14\n",
      "Name: Product_Type, dtype: int64\n",
      "\n",
      " Supermarket _Size \n",
      " 0    3\n",
      "1    0\n",
      "2    0\n",
      "3    3\n",
      "4    0\n",
      "Name: Supermarket _Size, dtype: int64\n",
      "\n",
      " Supermarket_Location_Type \n",
      " 0    2\n",
      "1    2\n",
      "2    2\n",
      "3    2\n",
      "4    2\n",
      "Name: Supermarket_Location_Type, dtype: int64\n",
      "\n",
      " Supermarket_Type \n",
      " 0    0\n",
      "1    1\n",
      "2    1\n",
      "3    0\n",
      "4    1\n",
      "Name: Supermarket_Type, dtype: int64\n"
     ]
    }
   ],
   "source": [
    "col = ['Product_Fat_Content', 'Product_Type', 'Supermarket _Size', 'Supermarket_Location_Type','Supermarket_Type']\n",
    "\n",
    "for i in col:\n",
    "    test[i] = en.fit_transform(test[i])\n",
    "    print('\\n',i,'\\n',test[i].head())"
   ]
  },
  {
   "cell_type": "code",
   "execution_count": 22,
   "metadata": {
    "scrolled": true
   },
   "outputs": [
    {
     "data": {
      "text/html": [
       "<div>\n",
       "<style scoped>\n",
       "    .dataframe tbody tr th:only-of-type {\n",
       "        vertical-align: middle;\n",
       "    }\n",
       "\n",
       "    .dataframe tbody tr th {\n",
       "        vertical-align: top;\n",
       "    }\n",
       "\n",
       "    .dataframe thead th {\n",
       "        text-align: right;\n",
       "    }\n",
       "</style>\n",
       "<table border=\"1\" class=\"dataframe\">\n",
       "  <thead>\n",
       "    <tr style=\"text-align: right;\">\n",
       "      <th></th>\n",
       "      <th>Product_Identifier</th>\n",
       "      <th>Supermarket_Identifier</th>\n",
       "      <th>Product_Supermarket_Identifier</th>\n",
       "      <th>Product_Weight</th>\n",
       "      <th>Product_Fat_Content</th>\n",
       "      <th>Product_Shelf_Visibility</th>\n",
       "      <th>Product_Type</th>\n",
       "      <th>Product_Price</th>\n",
       "      <th>Supermarket_Opening_Year</th>\n",
       "      <th>Supermarket _Size</th>\n",
       "      <th>Supermarket_Location_Type</th>\n",
       "      <th>Supermarket_Type</th>\n",
       "      <th>Product_Supermarket_Sales</th>\n",
       "    </tr>\n",
       "  </thead>\n",
       "  <tbody>\n",
       "    <tr>\n",
       "      <th>0</th>\n",
       "      <td>DRA12</td>\n",
       "      <td>CHUKWUDI010</td>\n",
       "      <td>DRA12_CHUKWUDI010</td>\n",
       "      <td>11.6</td>\n",
       "      <td>0</td>\n",
       "      <td>0.068535</td>\n",
       "      <td>14</td>\n",
       "      <td>357.54</td>\n",
       "      <td>2005</td>\n",
       "      <td>3</td>\n",
       "      <td>2</td>\n",
       "      <td>0</td>\n",
       "      <td>709.08</td>\n",
       "    </tr>\n",
       "    <tr>\n",
       "      <th>1</th>\n",
       "      <td>DRA12</td>\n",
       "      <td>CHUKWUDI013</td>\n",
       "      <td>DRA12_CHUKWUDI013</td>\n",
       "      <td>11.6</td>\n",
       "      <td>0</td>\n",
       "      <td>0.040912</td>\n",
       "      <td>14</td>\n",
       "      <td>355.79</td>\n",
       "      <td>1994</td>\n",
       "      <td>0</td>\n",
       "      <td>2</td>\n",
       "      <td>1</td>\n",
       "      <td>6381.69</td>\n",
       "    </tr>\n",
       "    <tr>\n",
       "      <th>2</th>\n",
       "      <td>DRA12</td>\n",
       "      <td>CHUKWUDI017</td>\n",
       "      <td>DRA12_CHUKWUDI017</td>\n",
       "      <td>11.6</td>\n",
       "      <td>0</td>\n",
       "      <td>0.041178</td>\n",
       "      <td>14</td>\n",
       "      <td>350.79</td>\n",
       "      <td>2014</td>\n",
       "      <td>3</td>\n",
       "      <td>1</td>\n",
       "      <td>1</td>\n",
       "      <td>6381.69</td>\n",
       "    </tr>\n",
       "    <tr>\n",
       "      <th>3</th>\n",
       "      <td>DRA12</td>\n",
       "      <td>CHUKWUDI018</td>\n",
       "      <td>DRA12_CHUKWUDI018</td>\n",
       "      <td>11.6</td>\n",
       "      <td>0</td>\n",
       "      <td>0.041113</td>\n",
       "      <td>14</td>\n",
       "      <td>355.04</td>\n",
       "      <td>2016</td>\n",
       "      <td>1</td>\n",
       "      <td>2</td>\n",
       "      <td>2</td>\n",
       "      <td>2127.23</td>\n",
       "    </tr>\n",
       "    <tr>\n",
       "      <th>4</th>\n",
       "      <td>DRA12</td>\n",
       "      <td>CHUKWUDI035</td>\n",
       "      <td>DRA12_CHUKWUDI035</td>\n",
       "      <td>11.6</td>\n",
       "      <td>2</td>\n",
       "      <td>0.000000</td>\n",
       "      <td>14</td>\n",
       "      <td>354.79</td>\n",
       "      <td>2011</td>\n",
       "      <td>2</td>\n",
       "      <td>1</td>\n",
       "      <td>1</td>\n",
       "      <td>2481.77</td>\n",
       "    </tr>\n",
       "  </tbody>\n",
       "</table>\n",
       "</div>"
      ],
      "text/plain": [
       "  Product_Identifier Supermarket_Identifier Product_Supermarket_Identifier  \\\n",
       "0              DRA12            CHUKWUDI010              DRA12_CHUKWUDI010   \n",
       "1              DRA12            CHUKWUDI013              DRA12_CHUKWUDI013   \n",
       "2              DRA12            CHUKWUDI017              DRA12_CHUKWUDI017   \n",
       "3              DRA12            CHUKWUDI018              DRA12_CHUKWUDI018   \n",
       "4              DRA12            CHUKWUDI035              DRA12_CHUKWUDI035   \n",
       "\n",
       "   Product_Weight  Product_Fat_Content  Product_Shelf_Visibility  \\\n",
       "0            11.6                    0                  0.068535   \n",
       "1            11.6                    0                  0.040912   \n",
       "2            11.6                    0                  0.041178   \n",
       "3            11.6                    0                  0.041113   \n",
       "4            11.6                    2                  0.000000   \n",
       "\n",
       "   Product_Type  Product_Price  Supermarket_Opening_Year  Supermarket _Size  \\\n",
       "0            14         357.54                      2005                  3   \n",
       "1            14         355.79                      1994                  0   \n",
       "2            14         350.79                      2014                  3   \n",
       "3            14         355.04                      2016                  1   \n",
       "4            14         354.79                      2011                  2   \n",
       "\n",
       "   Supermarket_Location_Type  Supermarket_Type  Product_Supermarket_Sales  \n",
       "0                          2                 0                     709.08  \n",
       "1                          2                 1                    6381.69  \n",
       "2                          1                 1                    6381.69  \n",
       "3                          2                 2                    2127.23  \n",
       "4                          1                 1                    2481.77  "
      ]
     },
     "execution_count": 22,
     "metadata": {},
     "output_type": "execute_result"
    }
   ],
   "source": [
    "df.head()"
   ]
  },
  {
   "cell_type": "code",
   "execution_count": 23,
   "metadata": {
    "scrolled": true
   },
   "outputs": [
    {
     "data": {
      "text/html": [
       "<div>\n",
       "<style scoped>\n",
       "    .dataframe tbody tr th:only-of-type {\n",
       "        vertical-align: middle;\n",
       "    }\n",
       "\n",
       "    .dataframe tbody tr th {\n",
       "        vertical-align: top;\n",
       "    }\n",
       "\n",
       "    .dataframe thead th {\n",
       "        text-align: right;\n",
       "    }\n",
       "</style>\n",
       "<table border=\"1\" class=\"dataframe\">\n",
       "  <thead>\n",
       "    <tr style=\"text-align: right;\">\n",
       "      <th></th>\n",
       "      <th>Product_Identifier</th>\n",
       "      <th>Supermarket_Identifier</th>\n",
       "      <th>Product_Supermarket_Identifier</th>\n",
       "      <th>Product_Weight</th>\n",
       "      <th>Product_Fat_Content</th>\n",
       "      <th>Product_Shelf_Visibility</th>\n",
       "      <th>Product_Type</th>\n",
       "      <th>Product_Price</th>\n",
       "      <th>Supermarket_Opening_Year</th>\n",
       "      <th>Supermarket _Size</th>\n",
       "      <th>Supermarket_Location_Type</th>\n",
       "      <th>Supermarket_Type</th>\n",
       "    </tr>\n",
       "  </thead>\n",
       "  <tbody>\n",
       "    <tr>\n",
       "      <th>0</th>\n",
       "      <td>DRA59</td>\n",
       "      <td>CHUKWUDI010</td>\n",
       "      <td>DRA59_CHUKWUDI010</td>\n",
       "      <td>8.270</td>\n",
       "      <td>1</td>\n",
       "      <td>0.214125</td>\n",
       "      <td>14</td>\n",
       "      <td>459.98</td>\n",
       "      <td>2005</td>\n",
       "      <td>3</td>\n",
       "      <td>2</td>\n",
       "      <td>0</td>\n",
       "    </tr>\n",
       "    <tr>\n",
       "      <th>1</th>\n",
       "      <td>DRA59</td>\n",
       "      <td>CHUKWUDI013</td>\n",
       "      <td>DRA59_CHUKWUDI013</td>\n",
       "      <td>8.270</td>\n",
       "      <td>1</td>\n",
       "      <td>0.127821</td>\n",
       "      <td>14</td>\n",
       "      <td>464.98</td>\n",
       "      <td>1994</td>\n",
       "      <td>0</td>\n",
       "      <td>2</td>\n",
       "      <td>1</td>\n",
       "    </tr>\n",
       "    <tr>\n",
       "      <th>2</th>\n",
       "      <td>DRB01</td>\n",
       "      <td>CHUKWUDI013</td>\n",
       "      <td>DRB01_CHUKWUDI013</td>\n",
       "      <td>7.390</td>\n",
       "      <td>0</td>\n",
       "      <td>0.082171</td>\n",
       "      <td>14</td>\n",
       "      <td>477.38</td>\n",
       "      <td>1994</td>\n",
       "      <td>0</td>\n",
       "      <td>2</td>\n",
       "      <td>1</td>\n",
       "    </tr>\n",
       "    <tr>\n",
       "      <th>3</th>\n",
       "      <td>DRB13</td>\n",
       "      <td>CHUKWUDI010</td>\n",
       "      <td>DRB13_CHUKWUDI010</td>\n",
       "      <td>6.115</td>\n",
       "      <td>1</td>\n",
       "      <td>0.011791</td>\n",
       "      <td>14</td>\n",
       "      <td>472.63</td>\n",
       "      <td>2005</td>\n",
       "      <td>3</td>\n",
       "      <td>2</td>\n",
       "      <td>0</td>\n",
       "    </tr>\n",
       "    <tr>\n",
       "      <th>4</th>\n",
       "      <td>DRB13</td>\n",
       "      <td>CHUKWUDI013</td>\n",
       "      <td>DRB13_CHUKWUDI013</td>\n",
       "      <td>6.115</td>\n",
       "      <td>1</td>\n",
       "      <td>0.007038</td>\n",
       "      <td>14</td>\n",
       "      <td>473.13</td>\n",
       "      <td>1994</td>\n",
       "      <td>0</td>\n",
       "      <td>2</td>\n",
       "      <td>1</td>\n",
       "    </tr>\n",
       "  </tbody>\n",
       "</table>\n",
       "</div>"
      ],
      "text/plain": [
       "  Product_Identifier Supermarket_Identifier Product_Supermarket_Identifier  \\\n",
       "0              DRA59            CHUKWUDI010              DRA59_CHUKWUDI010   \n",
       "1              DRA59            CHUKWUDI013              DRA59_CHUKWUDI013   \n",
       "2              DRB01            CHUKWUDI013              DRB01_CHUKWUDI013   \n",
       "3              DRB13            CHUKWUDI010              DRB13_CHUKWUDI010   \n",
       "4              DRB13            CHUKWUDI013              DRB13_CHUKWUDI013   \n",
       "\n",
       "   Product_Weight  Product_Fat_Content  Product_Shelf_Visibility  \\\n",
       "0           8.270                    1                  0.214125   \n",
       "1           8.270                    1                  0.127821   \n",
       "2           7.390                    0                  0.082171   \n",
       "3           6.115                    1                  0.011791   \n",
       "4           6.115                    1                  0.007038   \n",
       "\n",
       "   Product_Type  Product_Price  Supermarket_Opening_Year  Supermarket _Size  \\\n",
       "0            14         459.98                      2005                  3   \n",
       "1            14         464.98                      1994                  0   \n",
       "2            14         477.38                      1994                  0   \n",
       "3            14         472.63                      2005                  3   \n",
       "4            14         473.13                      1994                  0   \n",
       "\n",
       "   Supermarket_Location_Type  Supermarket_Type  \n",
       "0                          2                 0  \n",
       "1                          2                 1  \n",
       "2                          2                 1  \n",
       "3                          2                 0  \n",
       "4                          2                 1  "
      ]
     },
     "execution_count": 23,
     "metadata": {},
     "output_type": "execute_result"
    }
   ],
   "source": [
    "test.head()"
   ]
  },
  {
   "cell_type": "markdown",
   "metadata": {},
   "source": [
    "### 5. Feature Engineering"
   ]
  },
  {
   "cell_type": "code",
   "execution_count": 24,
   "metadata": {},
   "outputs": [
    {
     "data": {
      "text/plain": [
       "Product_Supermarket_Sales    1.000000\n",
       "Supermarket_Type             0.554920\n",
       "Product_Price                0.518285\n",
       "Supermarket_Location_Type    0.060871\n",
       "Supermarket_Opening_Year     0.051297\n",
       "Product_Type                 0.016474\n",
       "Product_Weight               0.011833\n",
       "Product_Fat_Content          0.009485\n",
       "Supermarket _Size           -0.048744\n",
       "Name: Product_Supermarket_Sales, dtype: float64"
      ]
     },
     "execution_count": 24,
     "metadata": {},
     "output_type": "execute_result"
    }
   ],
   "source": [
    "df.corr()['Product_Supermarket_Sales'].sort_values(ascending=False).head(9)"
   ]
  },
  {
   "cell_type": "code",
   "execution_count": 25,
   "metadata": {},
   "outputs": [
    {
     "data": {
      "text/plain": [
       "<matplotlib.axes._subplots.AxesSubplot at 0x7f6418409a90>"
      ]
     },
     "execution_count": 25,
     "metadata": {},
     "output_type": "execute_result"
    },
    {
     "data": {
      "image/png": "[encoded data removed]",
      "text/plain": [
       "<Figure size 1152x432 with 2 Axes>"
      ]
     },
     "metadata": {},
     "output_type": "display_data"
    }
   ],
   "source": [
    "plt.figure(figsize=(16,6))\n",
    "sns.heatmap(df.corr(), annot=True, linewidths=3.0)"
   ]
  },
  {
   "cell_type": "code",
   "execution_count": 26,
   "metadata": {},
   "outputs": [],
   "source": [
    "df[\"price_size\"] = df[\"Product_Price\"] * df[\"Supermarket _Size\"]\n",
    "df[\"size_type\"] = df[\"Supermarket _Size\"] * df[\"Supermarket_Location_Type\"]\n",
    "df[\"size_year\"] = df[\"Supermarket _Size\"] * df[\"Supermarket_Opening_Year\"]\n",
    "df[\"price_type\"] = df[\"Product_Price\"] * df[\"Supermarket_Type\"]\n",
    "df[\"price_year\"] = df[\"Product_Price\"] * df[\"Supermarket_Opening_Year\"]\n",
    "df[\"price_location\"] = df[\"Product_Price\"] * df[\"Supermarket_Location_Type\"]\n",
    "df[\"visibility_type\"] = df[\"Supermarket_Type\"] * df[\"Product_Shelf_Visibility\"]\n",
    "df[\"visibility_size\"] = df[\"Product_Shelf_Visibility\"] * df[\"Supermarket _Size\"]\n",
    "df[\"type_location\"] = df[\"Supermarket_Location_Type\"] * df[\"Supermarket_Type\"]\n",
    "\n",
    "df[\"inflation\"] = df[\"price_year\"] - df[\"Product_Price\"]\n",
    "\n",
    "df[\"price_sie\"] = df[\"Product_Price\"] * df[\"Supermarket_Location_Type\"]\n",
    "df[\"size_tye\"] = df[\"Supermarket _Size\"] * df[\"Product_Price\"]\n",
    "\n",
    "df[\"visibility_sie\"] = df[\"Supermarket_Location_Type\"] * df[\"Supermarket _Size\"]\n",
    "df[\"type_locaton\"] = df[\"Product_Shelf_Visibility\"] * df[\"Supermarket_Type\"]"
   ]
  },
  {
   "cell_type": "code",
   "execution_count": 27,
   "metadata": {},
   "outputs": [],
   "source": [
    "test[\"price_size\"] = test[\"Product_Price\"] * test[\"Supermarket _Size\"]\n",
    "test[\"size_type\"] = test[\"Supermarket _Size\"] * test[\"Supermarket_Location_Type\"]\n",
    "test[\"size_year\"] = test[\"Supermarket _Size\"] * test[\"Supermarket_Opening_Year\"]\n",
    "test[\"price_type\"] = test[\"Product_Price\"] * test[\"Supermarket_Type\"]\n",
    "test[\"price_year\"] = test[\"Product_Price\"] * test[\"Supermarket_Opening_Year\"]\n",
    "test[\"price_location\"] = test[\"Product_Price\"] * test[\"Supermarket_Location_Type\"]\n",
    "test[\"visibility_type\"] = test[\"Supermarket_Type\"] * test[\"Product_Shelf_Visibility\"]\n",
    "test[\"visibility_size\"] = test[\"Product_Shelf_Visibility\"] * test[\"Supermarket _Size\"]\n",
    "test[\"type_location\"] = test[\"Supermarket_Location_Type\"] * test[\"Supermarket_Type\"]\n",
    "\n",
    "test[\"inflation\"] = test[\"price_year\"] - test[\"Product_Price\"]\n",
    "\n",
    "test[\"price_sie\"] = test[\"Product_Price\"] * test[\"Supermarket_Location_Type\"]\n",
    "test[\"size_tye\"] = test[\"Supermarket _Size\"] * test[\"Product_Price\"]\n",
    "\n",
    "test[\"visibility_sie\"] = test[\"Supermarket_Location_Type\"] * test[\"Supermarket _Size\"]\n",
    "test[\"type_locaton\"] = test[\"Product_Shelf_Visibility\"] * test[\"Supermarket_Type\"]"
   ]
  },
  {
   "cell_type": "code",
   "execution_count": 28,
   "metadata": {},
   "outputs": [
    {
     "data": {
      "text/plain": [
       "Product_Supermarket_Sales    1.000000\n",
       "price_type                   0.658679\n",
       "Supermarket_Type             0.554920\n",
       "Product_Price                0.518285\n",
       "price_year                   0.517792\n",
       "inflation                    0.517792\n",
       "type_location                0.405114\n",
       "price_sie                    0.360091\n",
       "price_location               0.360091\n",
       "type_locaton                 0.316299\n",
       "visibility_type              0.316299\n",
       "size_tye                     0.175719\n",
       "Name: Product_Supermarket_Sales, dtype: float64"
      ]
     },
     "execution_count": 28,
     "metadata": {},
     "output_type": "execute_result"
    }
   ],
   "source": [
    "df.corr()['Product_Supermarket_Sales'].sort_values(ascending=False).head(12)"
   ]
  },
  {
   "cell_type": "code",
   "execution_count": null,
   "metadata": {},
   "outputs": [
    {
     "data": {
      "text/plain": [
       "<matplotlib.axes._subplots.AxesSubplot at 0x7f640dc4d1d0>"
      ]
     },
     "execution_count": 29,
     "metadata": {},
     "output_type": "execute_result"
    }
   ],
   "source": [
    "plt.figure(figsize=(16,6))\n",
    "sns.heatmap(df.corr(), annot=True, linewidths=3.0)"
   ]
  },
  {
   "cell_type": "code",
   "execution_count": null,
   "metadata": {
    "scrolled": true
   },
   "outputs": [],
   "source": [
    "col = df[['Product_Identifier','Supermarket_Identifier','Product_Supermarket_Identifier']]\n",
    "df.drop(col, axis = True, inplace=True)\n",
    "df.head()"
   ]
  },
  {
   "cell_type": "code",
   "execution_count": null,
   "metadata": {
    "scrolled": true
   },
   "outputs": [],
   "source": [
    "col = test[['Product_Identifier','Supermarket_Identifier','Product_Supermarket_Identifier']]\n",
    "test.drop(col, axis = True, inplace=True)\n",
    "test.head()"
   ]
  },
  {
   "cell_type": "code",
   "execution_count": null,
   "metadata": {
    "scrolled": true
   },
   "outputs": [],
   "source": [
    "df.columns"
   ]
  },
  {
   "cell_type": "markdown",
   "metadata": {},
   "source": [
    "### Selection of the Independent(X) and dependent(y) variables"
   ]
  },
  {
   "cell_type": "code",
   "execution_count": null,
   "metadata": {},
   "outputs": [],
   "source": [
    "X = df[['Product_Weight', 'Product_Fat_Content', 'Product_Shelf_Visibility',\n",
    "       'Product_Type', 'Product_Price', 'Supermarket_Opening_Year',\n",
    "       'Supermarket _Size', 'Supermarket_Location_Type', 'Supermarket_Type',\n",
    "              'price_size', 'size_type', 'size_year',\n",
    "       'price_type', 'price_year', 'price_location', 'visibility_type',\n",
    "       'visibility_size', 'type_location', 'inflation', 'price_sie',\n",
    "       'size_tye', 'visibility_sie', 'type_locaton']]\n",
    "new_data = test[['Product_Weight', 'Product_Fat_Content', 'Product_Shelf_Visibility',\n",
    "       'Product_Type', 'Product_Price', 'Supermarket_Opening_Year',\n",
    "       'Supermarket _Size', 'Supermarket_Location_Type', 'Supermarket_Type',\n",
    "              'price_size', 'size_type', 'size_year',\n",
    "       'price_type', 'price_year', 'price_location', 'visibility_type',\n",
    "       'visibility_size', 'type_location', 'inflation', 'price_sie',\n",
    "       'size_tye', 'visibility_sie', 'type_locaton']]\n",
    "\n",
    "y =  df['Product_Supermarket_Sales']"
   ]
  },
  {
   "cell_type": "markdown",
   "metadata": {},
   "source": [
    "### Here is Where the Cross Validation Takes place"
   ]
  },
  {
   "cell_type": "code",
   "execution_count": null,
   "metadata": {},
   "outputs": [],
   "source": [
    "from sklearn.cross_validation import train_test_split "
   ]
  },
  {
   "cell_type": "code",
   "execution_count": null,
   "metadata": {},
   "outputs": [],
   "source": [
    "X_train, X_test, y_train, y_test = train_test_split(X, y, test_size=0.3, random_state=42)"
   ]
  },
  {
   "cell_type": "markdown",
   "metadata": {},
   "source": [
    "### Model"
   ]
  },
  {
   "cell_type": "markdown",
   "metadata": {},
   "source": [
    "####  Linear Regression"
   ]
  },
  {
   "cell_type": "code",
   "execution_count": null,
   "metadata": {},
   "outputs": [],
   "source": [
    "from sklearn.linear_model import LinearRegression"
   ]
  },
  {
   "cell_type": "code",
   "execution_count": null,
   "metadata": {},
   "outputs": [],
   "source": [
    "lr = LinearRegression()\n",
    "lr.fit(X_train,y_train)"
   ]
  },
  {
   "cell_type": "markdown",
   "metadata": {},
   "source": [
    "#### the intercept"
   ]
  },
  {
   "cell_type": "code",
   "execution_count": null,
   "metadata": {},
   "outputs": [],
   "source": [
    "lr.intercept_"
   ]
  },
  {
   "cell_type": "markdown",
   "metadata": {},
   "source": [
    "#### the coeficient"
   ]
  },
  {
   "cell_type": "code",
   "execution_count": null,
   "metadata": {},
   "outputs": [],
   "source": [
    "lr.coef_"
   ]
  },
  {
   "cell_type": "markdown",
   "metadata": {},
   "source": [
    "#### the score"
   ]
  },
  {
   "cell_type": "code",
   "execution_count": null,
   "metadata": {},
   "outputs": [],
   "source": [
    "lr.score(X_test, y_test)"
   ]
  },
  {
   "cell_type": "markdown",
   "metadata": {},
   "source": [
    "#### the predictions"
   ]
  },
  {
   "cell_type": "code",
   "execution_count": null,
   "metadata": {},
   "outputs": [],
   "source": [
    "pred_X_test = lr.predict(X_test)"
   ]
  },
  {
   "cell_type": "code",
   "execution_count": null,
   "metadata": {},
   "outputs": [],
   "source": [
    "pred_X_test"
   ]
  },
  {
   "cell_type": "code",
   "execution_count": null,
   "metadata": {},
   "outputs": [],
   "source": [
    "pred_test = lr.predict(new_data)\n",
    "pred_test"
   ]
  },
  {
   "cell_type": "markdown",
   "metadata": {},
   "source": [
    "## Output"
   ]
  },
  {
   "cell_type": "code",
   "execution_count": null,
   "metadata": {},
   "outputs": [],
   "source": [
    "a = pd.DataFrame()\n",
    "a['Product_Supermarket_Identifier'] = ID\n",
    "a['Product_Supermarket_Sales'] = pred_X_test\n",
    "a.to_csv('output/Ouput_1.csv', index=False)\n",
    "a.head()"
   ]
  },
  {
   "cell_type": "code",
   "execution_count": null,
   "metadata": {},
   "outputs": [],
   "source": [
    "b = pd.DataFrame()\n",
    "b['Product_Supermarket_Identifier'] = ID\n",
    "b['Product_Supermarket_Sales'] = pred_test\n",
    "b.to_csv('output/Ouput_1.csv', index=False)\n",
    "b.head()"
   ]
  },
  {
   "cell_type": "code",
   "execution_count": null,
   "metadata": {},
   "outputs": [],
   "source": []
  }
 ],
 "metadata": {
  "kernelspec": {
   "display_name": "Python 3",
   "language": "python",
   "name": "python3"
  },
  "language_info": {
   "codemirror_mode": {
    "name": "ipython",
    "version": 3
   },
   "file_extension": ".py",
   "mimetype": "text/x-python",
   "name": "python",
   "nbconvert_exporter": "python",
   "pygments_lexer": "ipython3",
   "version": "3.6.5"
  }
 },
 "nbformat": 4,
 "nbformat_minor": 2
}
